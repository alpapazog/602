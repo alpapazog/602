{
  "nbformat": 4,
  "nbformat_minor": 0,
  "metadata": {
    "colab": {
      "provenance": []
    },
    "kernelspec": {
      "name": "python3",
      "display_name": "Python 3"
    },
    "language_info": {
      "name": "python"
    }
  },
  "cells": [
    {
      "cell_type": "code",
      "execution_count": 1,
      "metadata": {
        "id": "kURIIfXD2POo"
      },
      "outputs": [],
      "source": [
        "from sklearn.datasets import make_classification"
      ]
    },
    {
      "cell_type": "code",
      "source": [
        "x, y = make_classification(n_samples = 10000, n_features = 3, n_informative= 3, n_redundant=0, n_repeated=0, n_classes = 4, n_clusters_per_class= 1,\n",
        "                           weights = [0.7, 0.2, 0.08, 0.02])"
      ],
      "metadata": {
        "id": "4ykP1MQB2i3s"
      },
      "execution_count": 2,
      "outputs": []
    },
    {
      "cell_type": "code",
      "source": [
        "x"
      ],
      "metadata": {
        "colab": {
          "base_uri": "https://localhost:8080/"
        },
        "id": "MsTY3WMk3ftT",
        "outputId": "49e1949f-3de7-4e47-f11e-4fc4b0028166"
      },
      "execution_count": 3,
      "outputs": [
        {
          "output_type": "execute_result",
          "data": {
            "text/plain": [
              "array([[-2.50016209, -1.1658517 , -1.46651604],\n",
              "       [ 0.42100836, -1.28999942, -0.43393273],\n",
              "       [-1.02456731, -2.5450628 , -0.44661112],\n",
              "       ...,\n",
              "       [-0.84686701, -1.56794568, -0.77366939],\n",
              "       [ 0.80839761, -1.97341479, -0.02663375],\n",
              "       [ 3.76167526,  2.96044542,  2.26704951]])"
            ]
          },
          "metadata": {},
          "execution_count": 3
        }
      ]
    },
    {
      "cell_type": "code",
      "source": [
        "y"
      ],
      "metadata": {
        "colab": {
          "base_uri": "https://localhost:8080/"
        },
        "id": "IeyUbSO23qO3",
        "outputId": "9bfbeab7-ae9e-4a0d-dd82-35060208e1ab"
      },
      "execution_count": 4,
      "outputs": [
        {
          "output_type": "execute_result",
          "data": {
            "text/plain": [
              "array([0, 0, 0, ..., 0, 0, 1])"
            ]
          },
          "metadata": {},
          "execution_count": 4
        }
      ]
    },
    {
      "cell_type": "code",
      "source": [
        "from collections import Counter\n",
        "print(sorted(Counter(y).items()))"
      ],
      "metadata": {
        "colab": {
          "base_uri": "https://localhost:8080/"
        },
        "id": "KIl9IOFX6NZY",
        "outputId": "8984b32f-8bba-4f2d-f989-d6f7af8f5623"
      },
      "execution_count": 5,
      "outputs": [
        {
          "output_type": "stream",
          "name": "stdout",
          "text": [
            "[(0, 6961), (1, 2006), (2, 816), (3, 217)]\n"
          ]
        }
      ]
    },
    {
      "cell_type": "code",
      "source": [
        "from imblearn.over_sampling import RandomOverSampler"
      ],
      "metadata": {
        "id": "GgPRXNtN51X1"
      },
      "execution_count": 6,
      "outputs": []
    },
    {
      "cell_type": "code",
      "source": [
        "ros = RandomOverSampler(random_state=0)\n",
        "x_resampled, y_resampled = ros.fit_resample(x, y)\n",
        "print(sorted(Counter(y_resampled).items()))"
      ],
      "metadata": {
        "colab": {
          "base_uri": "https://localhost:8080/"
        },
        "id": "LAY2lpiX6DVb",
        "outputId": "483b76f0-5371-4aa4-f1eb-9139d606f326"
      },
      "execution_count": 7,
      "outputs": [
        {
          "output_type": "stream",
          "name": "stdout",
          "text": [
            "[(0, 6961), (1, 6961), (2, 6961), (3, 6961)]\n"
          ]
        }
      ]
    }
  ]
}