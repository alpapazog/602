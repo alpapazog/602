{
  "nbformat": 4,
  "nbformat_minor": 0,
  "metadata": {
    "colab": {
      "provenance": [],
      "collapsed_sections": [
        "7sXKwDAxSB-R",
        "o9VQ3VukqN15",
        "iMpRFzJYZjIF",
        "zJT5Tw2eSRHE"
      ]
    },
    "kernelspec": {
      "name": "python3",
      "display_name": "Python 3"
    },
    "language_info": {
      "name": "python"
    }
  },
  "cells": [
    {
      "cell_type": "markdown",
      "source": [
        "Exercise 3 (from ISLP chapter 3.7)\n",
        "---"
      ],
      "metadata": {
        "id": "7sXKwDAxSB-R"
      }
    },
    {
      "cell_type": "markdown",
      "source": [
        "a) Our current model is described as: \\\\\n",
        "Salary = 50 + 20⋅GPA + 0.07⋅IQ + 35⋅Level + 0.01⋅GPA⋅IQ - 10⋅GPA⋅Level\n",
        "\n",
        "Now for fixed GPA and IQ we have: \\\\\n",
        "\n",
        "*   High school graduates, Level = 0 \\\\\n",
        "so we have **Salary = 50 + 20⋅GPA + 0.07⋅IQ + 0.01⋅GPA⋅IQ** \\\\\n",
        "*   High school graduates, Level = 1 \\\\\n",
        "Salary = 50 + 20⋅GPA + 0.07⋅IQ + 35 + 0.01⋅GPA⋅IQ - 10⋅GPA => \\\\\n",
        "  **Salary = 85 + 10⋅GPA + 0.07⋅IQ + 0.01⋅GPA⋅IQ**\n",
        "\n",
        "Now we can see there is a difference in the intercept between the two levels of graduates. BUT the effect of GPA as it increases will ultimately have a bigger impact on the salary of high school graduates than for college graduates. \\\\\n",
        "Thus the correct answer is (iii). \\\\\n",
        "\n",
        "\n",
        "---\n",
        "\n",
        "\n",
        "b) Solving the model equation described in (a) for IQ = 110 and GPA = 4.0 we have and Level = 1 (college graduate): \\\\\n",
        "\n",
        "Salary = 50 + 20⋅GPA + 0.07⋅IQ + 35⋅Level + 0.01⋅GPA⋅IQ - 10⋅GPA⋅Level => \\\\\n",
        "Salary = 50 + 20⋅4 + 0.07⋅110 + 35 + 0.01⋅4⋅110 - 10⋅4 = 50 + 80 + 7.7 + 35 + 4.4 - 40 => \\\\\n",
        "Salary =  137.1\n",
        "\n",
        "---\n",
        "\n",
        "\n",
        "c) False: the coefficient being small is not relevant to the existence of an interaction effect. The size of the coefficient has to do with the magnitude of the effect and not wether it is statistically significant. \\\\\n",
        "In order to determine wether there is strong evidence for the interaction effect we would need to evaluate something like the coefficient's p-value which is not given. \\\\\n",
        "\n",
        "\n",
        "\n"
      ],
      "metadata": {
        "id": "O1tY9F3VhNUI"
      }
    },
    {
      "cell_type": "markdown",
      "source": [
        "Exercise 8 (from ISLP chapter 3.7)\n",
        "---\n",
        "\n",
        "\n",
        "a)"
      ],
      "metadata": {
        "id": "o9VQ3VukqN15"
      }
    },
    {
      "cell_type": "code",
      "source": [
        "import numpy as np\n",
        "import pandas as pd\n",
        "import statsmodels.api as sm"
      ],
      "metadata": {
        "id": "Xlzi2UHRqsba"
      },
      "execution_count": null,
      "outputs": []
    },
    {
      "cell_type": "code",
      "source": [
        "auto = pd.read_csv('sample_data/Auto.csv')"
      ],
      "metadata": {
        "id": "hU0_NKbMsCRa"
      },
      "execution_count": null,
      "outputs": []
    },
    {
      "cell_type": "code",
      "source": [
        "auto['horsepower'] = pd.to_numeric(auto['horsepower'], errors='coerce')\n",
        "print(auto[['horsepower', 'mpg']].isna().sum())\n",
        "print(np.isinf(auto[['horsepower', 'mpg']]).sum())"
      ],
      "metadata": {
        "colab": {
          "base_uri": "https://localhost:8080/"
        },
        "id": "GjqCDUFNwVH9",
        "outputId": "a89c94f5-c2e7-4038-f1c9-b5ac2b5e6929"
      },
      "execution_count": null,
      "outputs": [
        {
          "output_type": "stream",
          "name": "stdout",
          "text": [
            "horsepower    5\n",
            "mpg           0\n",
            "dtype: int64\n",
            "horsepower    0\n",
            "mpg           0\n",
            "dtype: int64\n"
          ]
        }
      ]
    },
    {
      "cell_type": "markdown",
      "source": [],
      "metadata": {
        "id": "abcD3cUt9Y_q"
      }
    },
    {
      "cell_type": "code",
      "source": [
        "auto.dropna(subset=['horsepower', 'mpg'], inplace=True)"
      ],
      "metadata": {
        "id": "87LV-RfPv8zx"
      },
      "execution_count": null,
      "outputs": []
    },
    {
      "cell_type": "code",
      "source": [
        "X = auto['horsepower']\n",
        "y = auto['mpg']\n",
        "X = sm.add_constant(X)"
      ],
      "metadata": {
        "id": "vWhoBbC9s2lt"
      },
      "execution_count": null,
      "outputs": []
    },
    {
      "cell_type": "code",
      "source": [
        "model_8a = sm.OLS(y, X).fit()\n",
        "print(model_8a.summary())"
      ],
      "metadata": {
        "colab": {
          "base_uri": "https://localhost:8080/"
        },
        "id": "sJ8fZ4QGC8tG",
        "outputId": "09cbee8f-91d9-4694-f9df-e81fd53d01ca"
      },
      "execution_count": null,
      "outputs": [
        {
          "output_type": "stream",
          "name": "stdout",
          "text": [
            "                            OLS Regression Results                            \n",
            "==============================================================================\n",
            "Dep. Variable:                    mpg   R-squared:                       0.606\n",
            "Model:                            OLS   Adj. R-squared:                  0.605\n",
            "Method:                 Least Squares   F-statistic:                     599.7\n",
            "Date:                Tue, 24 Sep 2024   Prob (F-statistic):           7.03e-81\n",
            "Time:                        23:20:02   Log-Likelihood:                -1178.7\n",
            "No. Observations:                 392   AIC:                             2361.\n",
            "Df Residuals:                     390   BIC:                             2369.\n",
            "Df Model:                           1                                         \n",
            "Covariance Type:            nonrobust                                         \n",
            "==============================================================================\n",
            "                 coef    std err          t      P>|t|      [0.025      0.975]\n",
            "------------------------------------------------------------------------------\n",
            "const         39.9359      0.717     55.660      0.000      38.525      41.347\n",
            "horsepower    -0.1578      0.006    -24.489      0.000      -0.171      -0.145\n",
            "==============================================================================\n",
            "Omnibus:                       16.432   Durbin-Watson:                   0.920\n",
            "Prob(Omnibus):                  0.000   Jarque-Bera (JB):               17.305\n",
            "Skew:                           0.492   Prob(JB):                     0.000175\n",
            "Kurtosis:                       3.299   Cond. No.                         322.\n",
            "==============================================================================\n",
            "\n",
            "Notes:\n",
            "[1] Standard Errors assume that the covariance matrix of the errors is correctly specified.\n"
          ]
        }
      ]
    },
    {
      "cell_type": "code",
      "source": [
        "hp_value = 98\n",
        "pred98 = model_8a.get_prediction(sm.add_constant(np.array([hp_value]), has_constant='add'))\n",
        "pred_summary_98 = pred98.summary_frame(alpha=0.05)\n",
        "predicted_value = pred_summary_98['mean'][0]\n",
        "conf_interval = pred_summary_98[['mean_ci_lower', 'mean_ci_upper']].values[0]\n",
        "pred_interval = pred_summary_98[['obs_ci_lower', 'obs_ci_upper']].values[0]\n",
        "\n",
        "print(f\"Predicted MPG for horsepower = {hp_value}: {predicted_value:.2f}\")\n",
        "print(f\"95% Confidence Interval: {conf_interval}\")\n",
        "print(f\"95% Prediction Interval: {pred_interval}\")"
      ],
      "metadata": {
        "colab": {
          "base_uri": "https://localhost:8080/"
        },
        "id": "zSl2uwNtUatk",
        "outputId": "d712bfcf-2d88-404a-bcb9-68cd37841ac1"
      },
      "execution_count": null,
      "outputs": [
        {
          "output_type": "stream",
          "name": "stdout",
          "text": [
            "Predicted MPG for horsepower = 98: 24.47\n",
            "95% Confidence Interval: [23.97307896 24.96107534]\n",
            "95% Prediction Interval: [14.80939607 34.12475823]\n"
          ]
        }
      ]
    },
    {
      "cell_type": "markdown",
      "source": [
        "**i)** \\\\\n",
        "Relationship between predictor and response. \\\\\n",
        "The p-value for horsepower is effectively zero which indicates that there is a  relationship between this predictor and the response MPG, and their relationship is statistically significant. \\\\\n",
        "**ii)** \\\\\n",
        " R squared value indicates that 0.606 of the variability in MPG is attributed to horsepower which indicates a strong relationship between the two. \\\\\n",
        "**iii)** \\\\\n",
        "The coefficient for horsepower is -0.1578 which indicates a negative relationship between the two. So as horsepower increases mpg tends to decrease. \\\\\n",
        "**iv)** \\\\\n",
        " For a horsepower of 98 the predicted mpg is \\\\\n",
        "mpg = 39.9359 - 0.1578⋅horsepower=> \\\\\n",
        "mpg = 39.9359 - 0.1578⋅98 => \\\\\n",
        "mpg = 39.9359 - 15.4644 = 24.4715 mpg \\\\\n",
        "And we can see in the output above the same result plus the confidence and prediction intervals \\\\\n",
        "95% Confidence Interval: {23.97307896, 24.96107534} \\\\\n",
        "95% Prediction Interval: {14.80939607 34.12475823}\n",
        "\n",
        "\n",
        "---\n",
        "\n",
        "\n",
        "\n"
      ],
      "metadata": {
        "id": "m--qtacs9ikT"
      }
    },
    {
      "cell_type": "markdown",
      "source": [
        "Exercise 10 (from ISLP chapter 3.7)\n",
        "---\n"
      ],
      "metadata": {
        "id": "iMpRFzJYZjIF"
      }
    },
    {
      "cell_type": "markdown",
      "source": [
        "**a)** \\\\\n",
        "Multiple regression model on Carseats dataset to predict Sales using Price, Urban and US."
      ],
      "metadata": {
        "id": "qXxzBSkvbCRy"
      }
    },
    {
      "cell_type": "code",
      "source": [
        "carseats = pd.read_csv('sample_data/Carseats.csv')"
      ],
      "metadata": {
        "id": "HgQf7YrdaKtC"
      },
      "execution_count": null,
      "outputs": []
    },
    {
      "cell_type": "code",
      "source": [
        "#converting 'yes/no' values to numeric 1/0\n",
        "carseats_new = pd.get_dummies(carseats, columns=['Urban', 'US'], drop_first=True)\n",
        "carseats_new['Urban_Yes'] = carseats_new['Urban_Yes'].astype(int)\n",
        "carseats_new['US_Yes'] = carseats_new['US_Yes'].astype(int)"
      ],
      "metadata": {
        "id": "RGOw4XzVb99P"
      },
      "execution_count": null,
      "outputs": []
    },
    {
      "cell_type": "code",
      "source": [
        "X = carseats_new[['Price', 'Urban_Yes', 'US_Yes']]\n",
        "y = carseats_new['Sales']"
      ],
      "metadata": {
        "id": "wCx3IxnefzOd"
      },
      "execution_count": null,
      "outputs": []
    },
    {
      "cell_type": "code",
      "source": [
        "X = sm.add_constant(X)\n",
        "model_10a = sm.OLS(y, X).fit()\n",
        "print(model_10a.summary())"
      ],
      "metadata": {
        "colab": {
          "base_uri": "https://localhost:8080/"
        },
        "id": "HMgdDrwWgEXJ",
        "outputId": "8baf8714-0602-40d0-c3e0-0ec0374a1542"
      },
      "execution_count": null,
      "outputs": [
        {
          "output_type": "stream",
          "name": "stdout",
          "text": [
            "                            OLS Regression Results                            \n",
            "==============================================================================\n",
            "Dep. Variable:                  Sales   R-squared:                       0.239\n",
            "Model:                            OLS   Adj. R-squared:                  0.234\n",
            "Method:                 Least Squares   F-statistic:                     41.52\n",
            "Date:                Tue, 24 Sep 2024   Prob (F-statistic):           2.39e-23\n",
            "Time:                        23:20:02   Log-Likelihood:                -927.66\n",
            "No. Observations:                 400   AIC:                             1863.\n",
            "Df Residuals:                     396   BIC:                             1879.\n",
            "Df Model:                           3                                         \n",
            "Covariance Type:            nonrobust                                         \n",
            "==============================================================================\n",
            "                 coef    std err          t      P>|t|      [0.025      0.975]\n",
            "------------------------------------------------------------------------------\n",
            "const         13.0435      0.651     20.036      0.000      11.764      14.323\n",
            "Price         -0.0545      0.005    -10.389      0.000      -0.065      -0.044\n",
            "Urban_Yes     -0.0219      0.272     -0.081      0.936      -0.556       0.512\n",
            "US_Yes         1.2006      0.259      4.635      0.000       0.691       1.710\n",
            "==============================================================================\n",
            "Omnibus:                        0.676   Durbin-Watson:                   1.912\n",
            "Prob(Omnibus):                  0.713   Jarque-Bera (JB):                0.758\n",
            "Skew:                           0.093   Prob(JB):                        0.684\n",
            "Kurtosis:                       2.897   Cond. No.                         628.\n",
            "==============================================================================\n",
            "\n",
            "Notes:\n",
            "[1] Standard Errors assume that the covariance matrix of the errors is correctly specified.\n"
          ]
        }
      ]
    },
    {
      "cell_type": "markdown",
      "source": [
        "**b)** \\\\\n",
        "\n",
        "\n",
        "1. Price coeff = -0.0545: The negative coefficient suggest that as Price increases Sales tend to decrease (while holding Urban and US values constant).\n",
        "2. Urban coeff = -0.0219: Again the coeffiecient here is negative which means that when Urban value is 1('Yes') the response is expected to decrease (while holding Price and US values constant). However the p-value here is 0.936 which is really high, meaning that the coefficient is not statistically significant and its effect is not meaninful in practice.\n",
        "3. US coeff = 1.2006: the coeffiecient here is positive which means that when US value is 1('Yes') the response is expected to increase (while holding Price and Urban values constant).\n",
        "4. Intercept coeff = 13.0435: This value gives us the base value of Sales, so the value of Sales for Price = 0, Urban = 'No', US = 'No'. \\\\\n",
        "**c)** \\\\\n",
        "The model in equation form: \\\\\n",
        "$Sales = \\beta_0 + \\beta_1\\cdot Price + \\beta_2\\cdot Urban + \\beta_3\\cdot US ⇒$ \\\\\n",
        "$Sales = 13.0435 - 0.0545\\cdot Price - 0.0219\\cdot Urban + 1.2006\\cdot US$ \\\\\n",
        "**d)** \\\\\n",
        "To determine which predictors allow you to reject the null hypothesis\n",
        "$H_0: \\beta_j = 0$ we can look at the p-values associated with each predictor's coefficient in the output. The null hypothesis\n",
        "$H_0: \\beta_j = 0$ states that a predictor j has no effect on the response variable. A small p-value indicates strong evidence against the null hypothesis, suggesting that the predictor significantly contributes to the model. \\\\\n",
        "You can reject the null hypothesis for the predictors Price and US, as their p-values are significantly low. For Urban, the high p-value indicates that you cannot reject the null hypothesis, suggesting no significant effect on Sales."
      ],
      "metadata": {
        "id": "4Y4ZsDi8Ddow"
      }
    },
    {
      "cell_type": "markdown",
      "source": [
        "**e)**"
      ],
      "metadata": {
        "id": "iym0ShAHK72I"
      }
    },
    {
      "cell_type": "code",
      "source": [
        "X = carseats_new[['Price', 'US_Yes']]\n",
        "y = carseats_new['Sales']\n",
        "X = sm.add_constant(X)\n",
        "model_10e = sm.OLS(y, X).fit()\n",
        "print(model_10e.summary())"
      ],
      "metadata": {
        "colab": {
          "base_uri": "https://localhost:8080/"
        },
        "id": "_y2hI89rDmhk",
        "outputId": "b64ecf05-fee9-4ff5-b7c7-90530cc1bd77"
      },
      "execution_count": null,
      "outputs": [
        {
          "output_type": "stream",
          "name": "stdout",
          "text": [
            "                            OLS Regression Results                            \n",
            "==============================================================================\n",
            "Dep. Variable:                  Sales   R-squared:                       0.239\n",
            "Model:                            OLS   Adj. R-squared:                  0.235\n",
            "Method:                 Least Squares   F-statistic:                     62.43\n",
            "Date:                Tue, 24 Sep 2024   Prob (F-statistic):           2.66e-24\n",
            "Time:                        23:20:02   Log-Likelihood:                -927.66\n",
            "No. Observations:                 400   AIC:                             1861.\n",
            "Df Residuals:                     397   BIC:                             1873.\n",
            "Df Model:                           2                                         \n",
            "Covariance Type:            nonrobust                                         \n",
            "==============================================================================\n",
            "                 coef    std err          t      P>|t|      [0.025      0.975]\n",
            "------------------------------------------------------------------------------\n",
            "const         13.0308      0.631     20.652      0.000      11.790      14.271\n",
            "Price         -0.0545      0.005    -10.416      0.000      -0.065      -0.044\n",
            "US_Yes         1.1996      0.258      4.641      0.000       0.692       1.708\n",
            "==============================================================================\n",
            "Omnibus:                        0.666   Durbin-Watson:                   1.912\n",
            "Prob(Omnibus):                  0.717   Jarque-Bera (JB):                0.749\n",
            "Skew:                           0.092   Prob(JB):                        0.688\n",
            "Kurtosis:                       2.895   Cond. No.                         607.\n",
            "==============================================================================\n",
            "\n",
            "Notes:\n",
            "[1] Standard Errors assume that the covariance matrix of the errors is correctly specified.\n"
          ]
        }
      ]
    },
    {
      "cell_type": "markdown",
      "source": [
        "**f)** \\\\\n",
        "The following table compares statistical measures for the two models\n",
        "\n",
        "|Metric            |Model with Price, US, and Urban| Model with Price and US |\n",
        "|------------------|-------------------------------|-------------------------|\n",
        "|R-squared         | 0.239                         |                   0.239 |\n",
        "|Adjusted R-squared| 0.234                         |                   0.235 |\n",
        "|AIC               | 1863                          |                    1861 |\n",
        "|BIC               | 1879                          |                    1873 |\n",
        "|F-statistic       | 41.52                         |                   62.43 |\n",
        "|p-value           | 2.39e-23                      |                2.66e-24 |\n",
        "\n",
        "* R-squared: \\\\\n",
        "Both models have the same R-squared value (0.239), which means that they explain the same proportion of the variance in Sales. The addition of Urban in the first model doesn't improve the ability to explain the variance in Sales.\n",
        "* Adjusted R-squared: \\\\\n",
        "The model with only Price and US has a slightly higher Adjusted R-squared than the model with Urban. Adjusted R-squared penalizes the model for adding irrelevant predictors, so this suggests that including Urban might not add much value.\n",
        "* AIC: \\\\\n",
        "The AIC for the 2nd model is slightly lower than the AIC of the 1st model. Lower AIC values indicate a better model fit when penalizing for the number of parameters.\n",
        "* BIC: \\\\\n",
        "The BIC is also slightly lower for the 2nd model compared to the 1st model. Like AIC, a lower BIC indicates a better fit when penalizing for the number of predictors.\n",
        "* F-statistic: \\\\\n",
        "The F-statistic is higher for the model with only Price and US than for the model with Price, US, and Urban. A higher F-statistic indicates a stronger overall model fit, and the p-values for both models are very low, indicating that both models are statistically significant.\n",
        "\n",
        "Conclusion:\n",
        "Model with Price and US fits the data just as well as the model with Price, US, and Urban.\n",
        "Including Urban as a predictor does not improve the model's performance and may even slightly decrease the model's fit, as indicated by the lower Adjusted R-squared and slightly higher AIC/BIC."
      ],
      "metadata": {
        "id": "8aGVHTHRMoIH"
      }
    },
    {
      "cell_type": "markdown",
      "source": [
        "Exercise 14 (from ISLP chapter 3.7)\n",
        "---"
      ],
      "metadata": {
        "id": "zJT5Tw2eSRHE"
      }
    },
    {
      "cell_type": "markdown",
      "source": [
        "**a)**"
      ],
      "metadata": {
        "id": "RaESiVp_ShoJ"
      }
    },
    {
      "cell_type": "code",
      "source": [
        "rng = np.random.default_rng(10)\n",
        "x1 = rng.uniform(0, 1, size=100)\n",
        "x2 = 0.5 * x1 + rng.normal(size=100) / 10\n",
        "y = 2 + 2 * x1 + 0.3 * x2 + rng.normal(size=100)"
      ],
      "metadata": {
        "id": "DTJ7nDXFSlZa"
      },
      "execution_count": null,
      "outputs": []
    },
    {
      "cell_type": "markdown",
      "source": [
        "The linear model can be written in the form of a multiple linear regression equation:\n",
        "$y = \\beta_0 + \\beta_1\\cdot x_1 + \\beta_2\\cdot x_2 + \\epsilon$ \\\\\n",
        "Where:\n",
        "* $y$ is the response variable\n",
        "* $x_1$ and $x_2$ are the predictor variables\n",
        "* $ \\beta_0, \\beta_1, \\beta_2$ are the regression coefficients.\n",
        "* $\\epsilon$ is the random error term, normally distributed. \\\\\n",
        "\n",
        "The final form is: \\\\\n",
        "$y = 2 + 2\\cdot x_1 + 0.3\\cdot x_2 + \\epsilon$ \\\\\n",
        "The regression coefficients are:\n",
        "* $ \\beta_0 = 2$ : intercept\n",
        "* $ \\beta_1 = 2$ : coefficient for $x_1$\n",
        "* $ \\beta_2 = 0.3$ : coefficient for $x_2$\n",
        "\n",
        "\n",
        "---"
      ],
      "metadata": {
        "id": "MFnqj_ZlXJaA"
      }
    },
    {
      "cell_type": "markdown",
      "source": [
        "**b)**"
      ],
      "metadata": {
        "id": "4u-GgTnPZGiW"
      }
    },
    {
      "cell_type": "code",
      "source": [
        "correlation = np.corrcoef(x1, x2)[0, 1]\n",
        "print(correlation)"
      ],
      "metadata": {
        "colab": {
          "base_uri": "https://localhost:8080/"
        },
        "id": "ry2Z-uh6ZMv8",
        "outputId": "be940598-f5b2-45ad-f6fe-bcebfd05a36d"
      },
      "execution_count": null,
      "outputs": [
        {
          "output_type": "stream",
          "name": "stdout",
          "text": [
            "0.772324497691354\n"
          ]
        }
      ]
    },
    {
      "cell_type": "code",
      "source": [
        "import matplotlib.pyplot as plt\n",
        "import seaborn as sns\n",
        "plt.figure(figsize=(8, 6))\n",
        "sns.scatterplot(x=x1, y=x2)\n",
        "plt.title(f'Scatterplot of x1 vs x2 (Correlation: {correlation:.2f})')\n",
        "plt.xlabel('x1')\n",
        "plt.ylabel('x2')\n",
        "plt.grid(True)\n",
        "plt.show()"
      ],
      "metadata": {
        "colab": {
          "base_uri": "https://localhost:8080/"
        },
        "id": "jbWuCJL-ZQNO",
        "outputId": "31d9687b-2437-4274-a976-95995f46d18e"
      },
      "execution_count": null,
      "outputs": [
        {
          "output_type": "display_data",
          "data": {
            "text/plain": [
              "<Figure size 800x600 with 1 Axes>"
            ],
            "image/png": "[encoded data removed]"
          },
          "metadata": {}
        }
      ]
    },
    {
      "cell_type": "markdown",
      "source": [
        "The correlation between $x_1$ and $x_2$ is approximately 0.77.\n",
        "\n",
        "---"
      ],
      "metadata": {
        "id": "IDy-L6p4ZfD2"
      }
    },
    {
      "cell_type": "markdown",
      "source": [
        "**c)**"
      ],
      "metadata": {
        "id": "Mf9p8PCOZwKY"
      }
    },
    {
      "cell_type": "code",
      "source": [
        "X = pd.DataFrame({'x1': x1, 'x2' : x2})\n",
        "X = sm.add_constant(X)"
      ],
      "metadata": {
        "id": "b6gXIAHNZ80V"
      },
      "execution_count": null,
      "outputs": []
    },
    {
      "cell_type": "code",
      "source": [
        "model_14c = sm.OLS(y, X).fit()\n",
        "print(model_14c.summary())"
      ],
      "metadata": {
        "colab": {
          "base_uri": "https://localhost:8080/"
        },
        "id": "SISJWD8ScF1Y",
        "outputId": "06bf4ac5-bd19-4f04-e24e-72045089e967"
      },
      "execution_count": null,
      "outputs": [
        {
          "output_type": "stream",
          "name": "stdout",
          "text": [
            "                            OLS Regression Results                            \n",
            "==============================================================================\n",
            "Dep. Variable:                      y   R-squared:                       0.291\n",
            "Model:                            OLS   Adj. R-squared:                  0.276\n",
            "Method:                 Least Squares   F-statistic:                     19.89\n",
            "Date:                Tue, 24 Sep 2024   Prob (F-statistic):           5.76e-08\n",
            "Time:                        23:20:04   Log-Likelihood:                -130.62\n",
            "No. Observations:                 100   AIC:                             267.2\n",
            "Df Residuals:                      97   BIC:                             275.1\n",
            "Df Model:                           2                                         \n",
            "Covariance Type:            nonrobust                                         \n",
            "==============================================================================\n",
            "                 coef    std err          t      P>|t|      [0.025      0.975]\n",
            "------------------------------------------------------------------------------\n",
            "const          1.9579      0.190     10.319      0.000       1.581       2.334\n",
            "x1             1.6154      0.527      3.065      0.003       0.569       2.661\n",
            "x2             0.9428      0.831      1.134      0.259      -0.707       2.592\n",
            "==============================================================================\n",
            "Omnibus:                        0.051   Durbin-Watson:                   1.964\n",
            "Prob(Omnibus):                  0.975   Jarque-Bera (JB):                0.041\n",
            "Skew:                          -0.036   Prob(JB):                        0.979\n",
            "Kurtosis:                       2.931   Cond. No.                         11.9\n",
            "==============================================================================\n",
            "\n",
            "Notes:\n",
            "[1] Standard Errors assume that the covariance matrix of the errors is correctly specified.\n"
          ]
        }
      ]
    },
    {
      "cell_type": "markdown",
      "source": [
        "The stat model regression model has computed the following:\n",
        "* $\\hat{\\beta}_0 = 1.9579$, while we have $\\beta_0 = 2$, which is very close, meaning the model's prediction for the intercept is accurate.\n",
        "* $\\hat{\\beta}_1 = 1.6154$, while we have $\\beta_1 = 2$, indicating the model slightly underestimates the effect of $x_1$ on $y$.\n",
        "* $\\hat{\\beta}_2 = 0.9428$, while we have $\\beta_2 = 0.3$, indicating the model overestimates the effect of $x_2$ on $y$. The large standard error\n",
        "(0.831) indicates that this estimate is less reliable.\n",
        "\n",
        "---"
      ],
      "metadata": {
        "id": "as8On5bEfQ_f"
      }
    },
    {
      "cell_type": "markdown",
      "source": [
        "* For $x_1$ the p-value is 0.003, which is less than the typical significance level of 0.05. This means we can reject the null hypothesis for $x_1$. Thus, there is significant evidence to conclude that $x_1$ has an impact on $y$.\n",
        "* For $x_2$ the p-value is 0.259, which is greater than 0.05. This means we cannot reject the null hypothesis for $x_2$, implying that there is no significant evidence to conclude that $x_2$ has an impact on $y$\n",
        "\n",
        "---"
      ],
      "metadata": {
        "id": "27PEcSJ5hXzk"
      }
    },
    {
      "cell_type": "markdown",
      "source": [
        "**d)** \\\\"
      ],
      "metadata": {
        "id": "eRXGeVyQiQds"
      }
    },
    {
      "cell_type": "code",
      "source": [
        "X = pd.DataFrame({'x1': x1})\n",
        "X = sm.add_constant(X)\n",
        "model_14d = sm.OLS(y, X).fit()\n",
        "print(model_14d.summary())"
      ],
      "metadata": {
        "colab": {
          "base_uri": "https://localhost:8080/"
        },
        "id": "nQAu1zjPiefY",
        "outputId": "b08accc5-0eb1-4698-e590-c37dacaa5e12"
      },
      "execution_count": null,
      "outputs": [
        {
          "output_type": "stream",
          "name": "stdout",
          "text": [
            "                            OLS Regression Results                            \n",
            "==============================================================================\n",
            "Dep. Variable:                      y   R-squared:                       0.281\n",
            "Model:                            OLS   Adj. R-squared:                  0.274\n",
            "Method:                 Least Squares   F-statistic:                     38.39\n",
            "Date:                Tue, 24 Sep 2024   Prob (F-statistic):           1.37e-08\n",
            "Time:                        23:20:04   Log-Likelihood:                -131.28\n",
            "No. Observations:                 100   AIC:                             266.6\n",
            "Df Residuals:                      98   BIC:                             271.8\n",
            "Df Model:                           1                                         \n",
            "Covariance Type:            nonrobust                                         \n",
            "==============================================================================\n",
            "                 coef    std err          t      P>|t|      [0.025      0.975]\n",
            "------------------------------------------------------------------------------\n",
            "const          1.9371      0.189     10.242      0.000       1.562       2.312\n",
            "x1             2.0771      0.335      6.196      0.000       1.412       2.742\n",
            "==============================================================================\n",
            "Omnibus:                        0.204   Durbin-Watson:                   1.931\n",
            "Prob(Omnibus):                  0.903   Jarque-Bera (JB):                0.042\n",
            "Skew:                          -0.046   Prob(JB):                        0.979\n",
            "Kurtosis:                       3.038   Cond. No.                         4.65\n",
            "==============================================================================\n",
            "\n",
            "Notes:\n",
            "[1] Standard Errors assume that the covariance matrix of the errors is correctly specified.\n"
          ]
        }
      ]
    },
    {
      "cell_type": "markdown",
      "source": [
        "**Comments** \\\\\n",
        "The R-squared slightly increases from 0.281 to 0.291 when adding $x_2$ to the model. This shows that $x_2$ explains a small effect on y. \\\\\n",
        "The p-value for the coefficient of $x_1$ remains low which indicates statistical significance. \\\\\n",
        "The magnitude of the $x_1$ coefficient decreases when $x_2$ is added to the model, indicating that $x_2$ is explaining some of the variation previously attributed to $x_1$ alone. The reduced significance also reflects this. \\\\\n",
        "The AIC and BIC are slightly worse in the model with both $x_1$ and $x_2$, suggesting that adding $x_2$ does not improve the model significantly. \\\\\n",
        "Adding $x_2$ to the model only marginally improves the model. The simpler model using only $x_1$ is likely more appropriate in this case. \\\\\n",
        "**Null hypothesis** \\\\\n",
        "In this model also, the p-value for $x_1$ is very small (0.000), meaning we can reject the null hypothesis $\\beta_1 = 0$, and conclude that $x_1$ significantly affects $y$.\n",
        "\n",
        "---"
      ],
      "metadata": {
        "id": "MpJ4zeuzakbJ"
      }
    },
    {
      "cell_type": "markdown",
      "source": [
        "**e)** \\\\"
      ],
      "metadata": {
        "id": "-ij-p5J9iobU"
      }
    },
    {
      "cell_type": "code",
      "source": [
        "X = pd.DataFrame({'x2': x2})\n",
        "X = sm.add_constant(X)\n",
        "model_14e = sm.OLS(y, X).fit()\n",
        "print(model_14e.summary())"
      ],
      "metadata": {
        "colab": {
          "base_uri": "https://localhost:8080/"
        },
        "id": "wBEfRIZQiql4",
        "outputId": "e7b57699-cce4-4440-99cf-a4c479a11030"
      },
      "execution_count": null,
      "outputs": [
        {
          "output_type": "stream",
          "name": "stdout",
          "text": [
            "                            OLS Regression Results                            \n",
            "==============================================================================\n",
            "Dep. Variable:                      y   R-squared:                       0.222\n",
            "Model:                            OLS   Adj. R-squared:                  0.214\n",
            "Method:                 Least Squares   F-statistic:                     27.99\n",
            "Date:                Tue, 24 Sep 2024   Prob (F-statistic):           7.43e-07\n",
            "Time:                        23:20:04   Log-Likelihood:                -135.24\n",
            "No. Observations:                 100   AIC:                             274.5\n",
            "Df Residuals:                      98   BIC:                             279.7\n",
            "Df Model:                           1                                         \n",
            "Covariance Type:            nonrobust                                         \n",
            "==============================================================================\n",
            "                 coef    std err          t      P>|t|      [0.025      0.975]\n",
            "------------------------------------------------------------------------------\n",
            "const          2.3239      0.154     15.124      0.000       2.019       2.629\n",
            "x2             2.9103      0.550      5.291      0.000       1.819       4.002\n",
            "==============================================================================\n",
            "Omnibus:                        0.191   Durbin-Watson:                   1.943\n",
            "Prob(Omnibus):                  0.909   Jarque-Bera (JB):                0.373\n",
            "Skew:                          -0.034   Prob(JB):                        0.830\n",
            "Kurtosis:                       2.709   Cond. No.                         6.11\n",
            "==============================================================================\n",
            "\n",
            "Notes:\n",
            "[1] Standard Errors assume that the covariance matrix of the errors is correctly specified.\n"
          ]
        }
      ]
    },
    {
      "cell_type": "markdown",
      "source": [
        "**Comments** \\\\\n",
        "The model explains about 22.2% of the variance in $y$ using only $x_2$. This is lower than the R-squared from the $x_1$-only model, indicating that $x_1$ is a better predictor of $y$ than $x_2$. \\\\\n",
        "Both the AIC and BIC are higher than in the $x_1$-only model. Higher AIC/BIC values indicate that the model with $x_2$ only is less efficient than the model using $x_1$. \\\\\n",
        "The coefficient for $x_2$ is larger than that for  $x_1$, but this does not imply $x_2$ is a better predictor, as indicated by the lower R-squared for the $x_2$ model. \\\\\n",
        "So $x_1$ seems to be a better predictor of $y$ than $x_2$, based on model fit statistics and the R-squared values. \\\\\n",
        "**Null hypothesis** \\\\\n",
        "In this model, the p-value for $x_2$ is very small (0.000), meaning we can reject the null hypothesis $\\beta_1 = 0$, and conclude that $x_2$ significantly affects $y$ in this model.\n",
        "\n",
        "---"
      ],
      "metadata": {
        "id": "yaXxKyXLdilJ"
      }
    },
    {
      "cell_type": "markdown",
      "source": [
        "**f)** \\\\\n",
        "The results obtained in (c)-(e) seem to contradict each other, as we rejected the null hypothesis for the coefficient of $x_2$ in the $x_2$ only model, but we couldn't do the same in the model using both $x_1$ and $x_2$.\n",
        "\n",
        "In the $x_2$-only model: \\\\\n",
        "$x_2$ is the only predictor of $y$, so any relationship between $x_2$ and $y$ is captured by the regression.\n",
        "\n",
        "In the model with both $x_1$ and $x_2$:\n",
        "\n",
        "$x_1$ and $x_2$ are correlated cause $x_2$ is partly derived from $x_1$ ($x_2$ = 0.5 * $x_1$ + noise). So the two variables provide overlapping information. When both $x_1$ and $x_2$ are included in the model, $x_1$ may explain much of the variation in $y$ that $x_2$ was explaining in the $x_2$-only model. Because of this overlap, the p-value for $x_2$ may increase in the model that includes both $x_1$ and $x_2$, and when the p-value increases higher than 0.005 we cannot reject the null hypothesis meaning that $x_2$ is no longer statistically significant after accounting for $x_1$.\n",
        "\n",
        "In conclusion, $x_2$ may appear significant when it's the only predictor, but not when $x_1$ is also present, as $x_1$ explains much of the same variance in $y$.\n",
        "\n",
        "---"
      ],
      "metadata": {
        "id": "yXA6l8GagP0J"
      }
    },
    {
      "cell_type": "markdown",
      "source": [
        "**g)**"
      ],
      "metadata": {
        "id": "KEf6GSQ9ipnY"
      }
    },
    {
      "cell_type": "code",
      "source": [
        "x1 = np.concatenate([x1, [0.1]])\n",
        "x2 = np.concatenate([x2, [0.8]])\n",
        "y = np.concatenate([y, [6]])\n",
        "\n",
        "X = pd.DataFrame({'x1': x1, 'x2' : x2})\n",
        "X = sm.add_constant(X)\n",
        "model_14g12 = sm.OLS(y, X).fit()\n",
        "print(model_14g12.summary())\n",
        "\n",
        "X = pd.DataFrame({'x1': x1})\n",
        "X = sm.add_constant(X)\n",
        "model_14g1 = sm.OLS(y, X).fit()\n",
        "print(model_14g1.summary())\n",
        "\n",
        "X = pd.DataFrame({'x2': x2})\n",
        "X = sm.add_constant(X)\n",
        "model_14g2 = sm.OLS(y, X).fit()\n",
        "print(model_14g2.summary())"
      ],
      "metadata": {
        "colab": {
          "base_uri": "https://localhost:8080/"
        },
        "id": "FOcVPxL8i8lO",
        "outputId": "964fcb88-3bd4-42b4-eda5-bc6ae744e435"
      },
      "execution_count": null,
      "outputs": [
        {
          "output_type": "stream",
          "name": "stdout",
          "text": [
            "                            OLS Regression Results                            \n",
            "==============================================================================\n",
            "Dep. Variable:                      y   R-squared:                       0.292\n",
            "Model:                            OLS   Adj. R-squared:                  0.277\n",
            "Method:                 Least Squares   F-statistic:                     20.17\n",
            "Date:                Tue, 24 Sep 2024   Prob (F-statistic):           4.60e-08\n",
            "Time:                        23:20:04   Log-Likelihood:                -135.30\n",
            "No. Observations:                 101   AIC:                             276.6\n",
            "Df Residuals:                      98   BIC:                             284.5\n",
            "Df Model:                           2                                         \n",
            "Covariance Type:            nonrobust                                         \n",
            "==============================================================================\n",
            "                 coef    std err          t      P>|t|      [0.025      0.975]\n",
            "------------------------------------------------------------------------------\n",
            "const          2.0618      0.192     10.720      0.000       1.680       2.443\n",
            "x1             0.8575      0.466      1.838      0.069      -0.068       1.783\n",
            "x2             2.2663      0.705      3.216      0.002       0.868       3.665\n",
            "==============================================================================\n",
            "Omnibus:                        0.139   Durbin-Watson:                   1.894\n",
            "Prob(Omnibus):                  0.933   Jarque-Bera (JB):                0.320\n",
            "Skew:                           0.013   Prob(JB):                        0.852\n",
            "Kurtosis:                       2.725   Cond. No.                         9.68\n",
            "==============================================================================\n",
            "\n",
            "Notes:\n",
            "[1] Standard Errors assume that the covariance matrix of the errors is correctly specified.\n",
            "                            OLS Regression Results                            \n",
            "==============================================================================\n",
            "Dep. Variable:                      y   R-squared:                       0.217\n",
            "Model:                            OLS   Adj. R-squared:                  0.209\n",
            "Method:                 Least Squares   F-statistic:                     27.42\n",
            "Date:                Tue, 24 Sep 2024   Prob (F-statistic):           9.23e-07\n",
            "Time:                        23:20:04   Log-Likelihood:                -140.37\n",
            "No. Observations:                 101   AIC:                             284.7\n",
            "Df Residuals:                      99   BIC:                             290.0\n",
            "Df Model:                           1                                         \n",
            "Covariance Type:            nonrobust                                         \n",
            "==============================================================================\n",
            "                 coef    std err          t      P>|t|      [0.025      0.975]\n",
            "------------------------------------------------------------------------------\n",
            "const          2.0739      0.201     10.310      0.000       1.675       2.473\n",
            "x1             1.8760      0.358      5.236      0.000       1.165       2.587\n",
            "==============================================================================\n",
            "Omnibus:                        8.232   Durbin-Watson:                   1.636\n",
            "Prob(Omnibus):                  0.016   Jarque-Bera (JB):               10.781\n",
            "Skew:                           0.396   Prob(JB):                      0.00456\n",
            "Kurtosis:                       4.391   Cond. No.                         4.61\n",
            "==============================================================================\n",
            "\n",
            "Notes:\n",
            "[1] Standard Errors assume that the covariance matrix of the errors is correctly specified.\n",
            "                            OLS Regression Results                            \n",
            "==============================================================================\n",
            "Dep. Variable:                      y   R-squared:                       0.267\n",
            "Model:                            OLS   Adj. R-squared:                  0.260\n",
            "Method:                 Least Squares   F-statistic:                     36.10\n",
            "Date:                Tue, 24 Sep 2024   Prob (F-statistic):           3.13e-08\n",
            "Time:                        23:20:04   Log-Likelihood:                -137.01\n",
            "No. Observations:                 101   AIC:                             278.0\n",
            "Df Residuals:                      99   BIC:                             283.3\n",
            "Df Model:                           1                                         \n",
            "Covariance Type:            nonrobust                                         \n",
            "==============================================================================\n",
            "                 coef    std err          t      P>|t|      [0.025      0.975]\n",
            "------------------------------------------------------------------------------\n",
            "const          2.2840      0.151     15.088      0.000       1.984       2.584\n",
            "x2             3.1458      0.524      6.008      0.000       2.107       4.185\n",
            "==============================================================================\n",
            "Omnibus:                        0.495   Durbin-Watson:                   1.939\n",
            "Prob(Omnibus):                  0.781   Jarque-Bera (JB):                0.631\n",
            "Skew:                          -0.041   Prob(JB):                        0.729\n",
            "Kurtosis:                       2.621   Cond. No.                         5.84\n",
            "==============================================================================\n",
            "\n",
            "Notes:\n",
            "[1] Standard Errors assume that the covariance matrix of the errors is correctly specified.\n"
          ]
        }
      ]
    },
    {
      "cell_type": "markdown",
      "source": [
        "|Metric            | $x_1,x_2$-Model | $x_1,x_2$-Model (with new observation)|\n",
        "|------------------|-----------------|-------------|\n",
        "|$\\beta_0$         | 1.9579          |      2.0618 |\n",
        "|$\\beta_1$         | 1.6154          |      0.8575 |\n",
        "|$\\beta_2$         | 0.9428          |      2.2663 |\n",
        "|R-squared         | 0.291           |       0.292 |\n",
        "|Adjusted R-squared| 0.276           |       0.277 |\n",
        "|AIC               | 267.2           |       276.6 |\n",
        "|BIC               | 275.1           |       284.5 |\n",
        "|F-statistic       | 19.89           |       20.17 |\n",
        "|p-value           | 5.76e-08        |    4.60e-08 |\n",
        "\n",
        "---\n",
        "\n",
        "|Metric            | $x_1$-Model     | $x_1$-Model (with new observation)|\n",
        "|------------------|-----------------|-------------|\n",
        "|$\\beta_0$         | 1.9371          |      2.0739 |\n",
        "|$\\beta_1$         | 2.0771          |      1.8760 |\n",
        "|R-squared         | 0.281           |       0.217 |\n",
        "|Adjusted R-squared| 0.274           |       0.209 |\n",
        "|AIC               | 266.6           |       284.7 |\n",
        "|BIC               | 271.8           |       290.0 |\n",
        "|F-statistic       | 38.39           |       27.42 |\n",
        "|p-value           | 1.37e-08        |    9.23e-07 |\n",
        "\n",
        "---\n",
        "\n",
        "|Metric            | $x_2$-Model     | $x_2$-Model (with new observation)|\n",
        "|------------------|-----------------|-------------|\n",
        "|$\\beta_0$         | 2.3239          |      2.2840 |\n",
        "|$\\beta_1$         | 2.9103          |      3.1458 |\n",
        "|R-squared         | 0.222           |       0.267 |\n",
        "|Adjusted R-squared| 0.214           |       0.260 |\n",
        "|AIC               | 274.5           |       278.0 |\n",
        "|BIC               | 279.7           |       283.3 |\n",
        "|F-statistic       | 27.99           |       36.10 |\n",
        "|p-value           | 7.43e-07        |    3.13e-08 |\n",
        "\n",
        "---\n",
        "\n",
        "The new observation appears to have a significant impact on the models:\n",
        "\n",
        "For the model using both $x_1$ and $x_2$, the coefficients for both predictors changed, and the model fit improved slightly (R-squared and Adjusted R-squared have slightly increased), indicating that the new observation affects the estimated relationships between both predictors and the response.\n",
        "\n",
        "For the model using only $x_1$, the model fit decreased significantly (R-squared: previous 0.281, now 0.217), and the coefficient for $x_1$ reduced, suggesting that $x_1$'s predictive power has diminished with the new observation.\n",
        "\n",
        "For the model using only $x_2$, the model fit improved, and the coefficient for $x_2$ increased, suggesting that $x_2$ has become a stronger predictor of $y$ with the new observation."
      ],
      "metadata": {
        "id": "ocNMg_Hrqw2u"
      }
    },
    {
      "cell_type": "code",
      "source": [
        "X_12 = sm.add_constant(np.column_stack([x1, x2]))\n",
        "X_1 = sm.add_constant(x1)\n",
        "X_2 = sm.add_constant(x2)\n",
        "\n",
        "# Predicted values and residuals\n",
        "y_pred_12 = model_14g12.predict(X_12)\n",
        "y_pred_1 = model_14g1.predict(X_1)\n",
        "y_pred_2 = model_14g2.predict(X_2)\n",
        "residuals_12 = y - y_pred_12\n",
        "residuals_1 = y - y_pred_1\n",
        "residuals_2 = y - y_pred_2\n",
        "\n",
        "# Residual for the new observation\n",
        "new_observation = np.array([1, 0.1, 0.8])  # Including intercept\n",
        "new_y_pred_12 = model_14g12.predict(new_observation.reshape(1, -1))\n",
        "new_observation = np.array([1, 0.1])\n",
        "new_y_pred_1 = model_14g1.predict(new_observation.reshape(1, -1))\n",
        "new_observation = np.array([1, 0.8])\n",
        "new_y_pred_2 = model_14g2.predict(new_observation.reshape(1, -1))\n",
        "new_residual_12 = 6 - new_y_pred_12\n",
        "new_residual_1 = 6 - new_y_pred_1\n",
        "new_residual_2 = 6 - new_y_pred_2\n",
        "\n",
        "print(f\"New observation residual (x1, x2): {new_residual_12}\")\n",
        "print(f\"New observation residual (x1): {new_residual_1}\")\n",
        "print(f\"New observation residual (x2): {new_residual_2}\")"
      ],
      "metadata": {
        "colab": {
          "base_uri": "https://localhost:8080/"
        },
        "id": "j0WhtVaZyKwi",
        "outputId": "6338365c-cdda-4155-c6fb-d495e731e953"
      },
      "execution_count": null,
      "outputs": [
        {
          "output_type": "stream",
          "name": "stdout",
          "text": [
            "New observation residual (x1, x2): [2.03939547]\n",
            "New observation residual (x1): [3.73845493]\n",
            "New observation residual (x2): [1.19930923]\n"
          ]
        }
      ]
    },
    {
      "cell_type": "code",
      "source": [
        "std_residuals_12 = residuals_12 / np.std(residuals_12)\n",
        "std_residuals_1 = residuals_1 / np.std(residuals_1)\n",
        "std_residuals_2 = residuals_2 / np.std(residuals_2)\n",
        "\n",
        "print(f\"Standardized residual (x1, x2): {new_residual_12 / np.std(residuals_12)}\")\n",
        "print(f\"Standardized residual (x1): {new_residual_1 / np.std(residuals_1)}\")\n",
        "print(f\"Standardized residual (x2): {new_residual_2 / np.std(residuals_2)}\")"
      ],
      "metadata": {
        "colab": {
          "base_uri": "https://localhost:8080/"
        },
        "id": "t_GOU9xjy_U4",
        "outputId": "7e7f2fcf-4e83-4132-c6b9-7dda8ac44610"
      },
      "execution_count": null,
      "outputs": [
        {
          "output_type": "stream",
          "name": "stdout",
          "text": [
            "Standardized residual (x1, x2): [2.20772901]\n",
            "Standardized residual (x1): [3.84902165]\n",
            "Standardized residual (x2): [1.2764789]\n"
          ]
        }
      ]
    },
    {
      "cell_type": "code",
      "source": [
        "influence = model_14g12.get_influence()\n",
        "leverage12 = influence.hat_matrix_diag\n",
        "influence = model_14g1.get_influence()\n",
        "leverage1 = influence.hat_matrix_diag\n",
        "influence = model_14g2.get_influence()\n",
        "leverage2 = influence.hat_matrix_diag\n",
        "\n",
        "new_observation_idx = len(y) - 1  # Index of the new observation\n",
        "new_leverage12 = leverage12[new_observation_idx]\n",
        "new_leverage1 = leverage1[new_observation_idx]\n",
        "new_leverage2 = leverage2[new_observation_idx]"
      ],
      "metadata": {
        "id": "2cioJOOcxTzc"
      },
      "execution_count": null,
      "outputs": []
    },
    {
      "cell_type": "code",
      "source": [
        "p = X_12.shape[1]  # Number of predictors including intercept\n",
        "n = X_12.shape[0]  # Number of observations\n",
        "average_leverage12 = p / n\n",
        "p = X_1.shape[1]  # Number of predictors including intercept\n",
        "n = X_1.shape[0]  # Number of observations\n",
        "average_leverage1 = p / n\n",
        "p = X_2.shape[1]  # Number of predictors including intercept\n",
        "n = X_2.shape[0]  # Number of observations\n",
        "average_leverage2 = p / n\n",
        "\n",
        "high_leverage_threshold12_1 = 2 * average_leverage12\n",
        "high_leverage_threshold12_2 = 3 * average_leverage12\n",
        "high_leverage_threshold1_1 = 2 * average_leverage1\n",
        "high_leverage_threshold1_2 = 3 * average_leverage1\n",
        "high_leverage_threshold2_1 = 2 * average_leverage2\n",
        "high_leverage_threshold2_2 = 3 * average_leverage2\n",
        "\n",
        "# Check if the new observation is high-leverage\n",
        "print(f\"New observation leverage (x1, x2): {new_leverage12} - Thresholds: {high_leverage_threshold12_1} , {high_leverage_threshold12_2}\")\n",
        "print(f\"New observation leverage (x1): {new_leverage1} - Thresholds: {high_leverage_threshold1_1} , {high_leverage_threshold1_2}\")\n",
        "print(f\"New observation leverage (x2): {new_leverage2} - Thresholds: {high_leverage_threshold2_1} , {high_leverage_threshold2_2}\")"
      ],
      "metadata": {
        "colab": {
          "base_uri": "https://localhost:8080/"
        },
        "id": "hpcf5pNy4mn6",
        "outputId": "c7c4b1f5-628b-4ce7-a878-2475d5582c15"
      },
      "execution_count": null,
      "outputs": [
        {
          "output_type": "stream",
          "name": "stdout",
          "text": [
            "New observation leverage (x1, x2): 0.34767161961426646 - Thresholds: 0.0594059405940594 , 0.0891089108910891\n",
            "New observation leverage (x1): 0.030283401255103554 - Thresholds: 0.039603960396039604 , 0.0594059405940594\n",
            "New observation leverage (x2): 0.1102066358797133 - Thresholds: 0.039603960396039604 , 0.0594059405940594\n"
          ]
        }
      ]
    },
    {
      "cell_type": "markdown",
      "source": [
        "* $x_1,x_2$-model\n",
        "\n",
        " Given that the standardized residual is 2.21, which is greater than the typical threshold of ±2, the new observation is potentially an outlier based on its residual and is potentially influential. Therefore, this residual suggests that the new observation is an outlier in the context of your regression model.\n",
        "\n",
        " A leverage of 0.35, which is well above the low threshold of 0.06, indicates that the observation has a significant influence on the model and may pull the regression line towards it, affecting the fit of the model.\n",
        "\n",
        " In summary, yes the observation is a high leverage point and likely an outlier\n",
        "\n",
        "* $x_1$-model\n",
        "\n",
        " The observation has a high standardized residual of 3.85, which suggests it is an outlier in terms of its response.\n",
        "\n",
        " However, the low leverage (0.03 with low threshold 0.04) indicates that it is not exerting a large influence on the regression model.\n",
        "\n",
        " In summary, while the observation is an outlier with a high standardized residual, it does not have high leverage.\n",
        "\n",
        "* $x_2$-model\n",
        "\n",
        " The observation has a moderate standardized residual (1.3), suggesting it is not a strong outlier but still somewhat unusual.\n",
        "\n",
        " The leverage is also moderate (0.11 with low threshold 0.04), meaning it has some influence.\n",
        "\n",
        " In summary, these values suggest that the observation is somewhat influential and is somewhat different from the model's predictions, it is not a significant outlier or a high leverage point."
      ],
      "metadata": {
        "id": "LrJxbYa06oA0"
      }
    }
  ]
}